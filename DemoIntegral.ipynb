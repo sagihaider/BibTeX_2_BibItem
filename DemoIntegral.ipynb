{
  "nbformat": 4,
  "nbformat_minor": 0,
  "metadata": {
    "colab": {
      "name": "DemoIntegral.ipynb",
      "provenance": [],
      "authorship_tag": "ABX9TyOO0XMJ90SmQCN+uMiR7L8l",
      "include_colab_link": true
    },
    "kernelspec": {
      "name": "python3",
      "display_name": "Python 3"
    }
  },
  "cells": [
    {
      "cell_type": "markdown",
      "metadata": {
        "id": "view-in-github",
        "colab_type": "text"
      },
      "source": [
        "<a href=\"https://colab.research.google.com/github/sagihaider/BibTeX_2_BibItem/blob/master/DemoIntegral.ipynb\" target=\"_parent\"><img src=\"https://colab.research.google.com/assets/colab-badge.svg\" alt=\"Open In Colab\"/></a>"
      ]
    },
    {
      "cell_type": "code",
      "metadata": {
        "id": "GCkfxlAAWmNE",
        "colab_type": "code",
        "colab": {
          "base_uri": "https://localhost:8080/",
          "height": 34
        },
        "outputId": "27d67da6-aa9f-4cf8-bc1d-9224bfa475b7"
      },
      "source": [
        "print(\"Welcome Integral\")"
      ],
      "execution_count": 1,
      "outputs": [
        {
          "output_type": "stream",
          "text": [
            "Welcome Integral\n"
          ],
          "name": "stdout"
        }
      ]
    },
    {
      "cell_type": "markdown",
      "metadata": {
        "id": "-eJK6nnwXPkp",
        "colab_type": "text"
      },
      "source": [
        "## Hello all my Integral Students\n",
        "Hi everyone"
      ]
    },
    {
      "cell_type": "code",
      "metadata": {
        "id": "uRB7F6OoXT8W",
        "colab_type": "code",
        "colab": {
          "base_uri": "https://localhost:8080/",
          "height": 34
        },
        "outputId": "e4816898-64b0-4ad5-dc43-3117847ae804"
      },
      "source": [
        "a = 5\n",
        "b= 10\n",
        "c = a + b\n",
        "print(c)\n"
      ],
      "execution_count": 2,
      "outputs": [
        {
          "output_type": "stream",
          "text": [
            "15\n"
          ],
          "name": "stdout"
        }
      ]
    }
  ]
}