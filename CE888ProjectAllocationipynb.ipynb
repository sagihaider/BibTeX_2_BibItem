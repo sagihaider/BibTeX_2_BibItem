{
  "nbformat": 4,
  "nbformat_minor": 0,
  "metadata": {
    "colab": {
      "name": "CE888ProjectAllocationipynb",
      "provenance": [],
      "collapsed_sections": [],
      "mount_file_id": "1pwxCcS5hrg2uVPe_TNLNPosENZTD2n8K",
      "authorship_tag": "ABX9TyMnqfsWXYAiewVnuI/nsCOB",
      "include_colab_link": true
    },
    "kernelspec": {
      "name": "python3",
      "display_name": "Python 3"
    }
  },
  "cells": [
    {
      "cell_type": "markdown",
      "metadata": {
        "id": "view-in-github",
        "colab_type": "text"
      },
      "source": [
        "<a href=\"https://colab.research.google.com/github/sagihaider/BibTeX_2_BibItem/blob/master/CE888ProjectAllocationipynb.ipynb\" target=\"_parent\"><img src=\"https://colab.research.google.com/assets/colab-badge.svg\" alt=\"Open In Colab\"/></a>"
      ]
    },
    {
      "cell_type": "code",
      "metadata": {
        "colab": {
          "base_uri": "https://localhost:8080/"
        },
        "id": "bz0DtnlNjHPm",
        "outputId": "72636645-b4fb-489b-8b5e-7a9675bf82cd"
      },
      "source": [
        "!git clone https://github.com/sagihaider/project_allocation.git "
      ],
      "execution_count": 2,
      "outputs": [
        {
          "output_type": "stream",
          "text": [
            "Cloning into 'project_allocation'...\n",
            "fatal: could not read Username for 'https://github.com': No such device or address\n"
          ],
          "name": "stdout"
        }
      ]
    },
    {
      "cell_type": "code",
      "metadata": {
        "colab": {
          "base_uri": "https://localhost:8080/"
        },
        "id": "20Cil4d3kJ1L",
        "outputId": "e61d1d75-75b3-4a29-d1a7-2444fb18a728"
      },
      "source": [
        "import pandas as pd \n",
        "data = pd.read_excel('/content/CE888_Project_allocation_2021_Responses.xlsx', index_col=0)  \n",
        "df = data.iloc[:,[0,1,2,3,4]]\n",
        "df.reset_index(drop=True, inplace=True)\n",
        "df.columns = ['name','userid','project1', 'project2','project3']\n",
        "df.count()\n",
        "# print(df.dtypes)"
      ],
      "execution_count": 11,
      "outputs": [
        {
          "output_type": "execute_result",
          "data": {
            "text/plain": [
              "name        160\n",
              "userid      160\n",
              "project1    158\n",
              "project2    160\n",
              "project3    157\n",
              "dtype: int64"
            ]
          },
          "metadata": {
            "tags": []
          },
          "execution_count": 11
        }
      ]
    },
    {
      "cell_type": "code",
      "metadata": {
        "colab": {
          "base_uri": "https://localhost:8080/"
        },
        "id": "dZ-QtkFOrh2L",
        "outputId": "96979c80-11db-4c48-b3ba-cd0976a20ee6"
      },
      "source": [
        "p1 = [] # List for Project 1 allocation\n",
        "p2 = [] # List for Project 2 allocation\n",
        "p3 = [] # List for Project 3 allocation\n",
        "# df.iloc[1, 3]\n",
        "[nStudent, nCol] = df.shape # no.of students, no.of Columns\n",
        "for count, value in enumerate(df['name']):\n",
        "  # print(count, value)\n",
        "  cs1=df.iloc[count, 2] # Fetch project 1 choice\n",
        "  cs2=df.iloc[count, 3] # Fetch project 2 choice\n",
        "  cs3=df.iloc[count, 4] # Fetch project 3 choice\n",
        "\n",
        "  if cs1 == 'First option': # If project 1 is first option\n",
        "    p1.append(value)        # then append to project 1\n",
        "    if len(p1) >= round(nStudent/3,0):\n",
        "      if cs2 == 'Second option':\n",
        "        p2.append(value)\n",
        "      elif cs2 == 'Third option':\n",
        "        p3.append(value)\n",
        "        \n",
        "  elif cs2 == 'First option': # If project 2 is first option\n",
        "    p2.append(value)          # then append to project 2\n",
        "    if len(p2) >= round(nStudent/3,0):\n",
        "      if cs1 == 'First option':\n",
        "        p1.append(value)\n",
        "      elif cs3 == 'Third option':\n",
        "        p3.append(value)\n",
        "\n",
        "  elif cs3 == 'First option': # If project 3 is first option\n",
        "    p3.append(value)          # then append to project 3\n",
        "    if len(p3) >= round(nStudent/3,0):\n",
        "      if cs1 == 'First option':\n",
        "        p1.append(value)\n",
        "      elif cs2 == 'Second option':\n",
        "        p2.append(value)\n",
        "\n",
        "print(len(p1))\n",
        "print(len(p2))\n",
        "print(len(p3))"
      ],
      "execution_count": 18,
      "outputs": [
        {
          "output_type": "stream",
          "text": [
            "97\n",
            "74\n",
            "24\n"
          ],
          "name": "stdout"
        }
      ]
    },
    {
      "cell_type": "code",
      "metadata": {
        "colab": {
          "base_uri": "https://localhost:8080/"
        },
        "id": "lfG8vSQZ_SqL",
        "outputId": "f558a419-37db-42b2-c799-3b8ae6e13144"
      },
      "source": [
        "p1 = [] # List for Project 1 allocation\n",
        "p2 = [] # List for Project 2 allocation\n",
        "p3 = [] # List for Project 3 allocation\n",
        "# df.iloc[1, 3]\n",
        "[nStudent, nCol] = df.shape # no.of students, no.of Columns\n",
        "print(nStudent/3)\n",
        "for count, value in enumerate(df['name']):\n",
        "  # print(count, value)\n",
        "  cs1=df.iloc[count, 2] # Fetch project 1 choice\n",
        "  cs2=df.iloc[count, 3] # Fetch project 2 choice\n",
        "  cs3=df.iloc[count, 4] # Fetch project 3 choice\n",
        "\n",
        "  if cs1 == 'First option': # If project 1 is first option\n",
        "    if len(p1) <= round(nStudent/3,0):\n",
        "      p1.append(value)        # then append to project 1\n",
        "    elif cs2 == 'Second option':\n",
        "      if len(p2) <= round(nStudent/3,0):\n",
        "        p2.append(value) \n",
        "    elif cs3 == 'Second option':\n",
        "      if len(p3) <= round(nStudent/3,0):\n",
        "        p3.append(value)\n",
        "    \n",
        "\n",
        "  elif cs2 == 'First option': # If project 2 is first option\n",
        "    if len(p2) <= round(nStudent/3,0):\n",
        "      p2.append(value)        # then append to project 1\n",
        "    elif len(p1) <= round(nStudent/3,0):\n",
        "      p1.append(value) \n",
        "    elif len(p3) <= round(nStudent/3,0):\n",
        "      p3.append(value)\n",
        "\n",
        "\n",
        "  elif cs3 == 'First option': # If project 3 is first option\n",
        "    if len(p3) <= round(nStudent/3,0):\n",
        "      p3.append(value)        # then append to project 1\n",
        "    elif len(p2) <= round(nStudent/3,0):\n",
        "      p2.append(value) \n",
        "    elif len(p3) <= round(nStudent/3,0):\n",
        "      p3.append(value)\n",
        "\n",
        "print(len(p1))\n",
        "print(len(p2))\n",
        "print(len(p3))"
      ],
      "execution_count": 19,
      "outputs": [
        {
          "output_type": "stream",
          "text": [
            "53.333333333333336\n",
            "54\n",
            "54\n",
            "41\n"
          ],
          "name": "stdout"
        }
      ]
    },
    {
      "cell_type": "code",
      "metadata": {
        "colab": {
          "base_uri": "https://localhost:8080/",
          "height": 547
        },
        "id": "YmIJHpqIqKOX",
        "outputId": "f43df403-6c08-45e5-aa12-c32d0315a1c7"
      },
      "source": [
        "count_p1 = df['project1'].value_counts() \n",
        "print(count_p1) \n",
        "count_p1.plot(kind='bar')"
      ],
      "execution_count": 31,
      "outputs": [
        {
          "output_type": "stream",
          "text": [
            "First option     85\n",
            "Third Option     28\n",
            "Second option    26\n",
            "Name: project1, dtype: int64\n",
            "Second option    82\n",
            "First option     33\n",
            "Third Option     26\n",
            "Name: project2, dtype: int64\n",
            "Third Option     84\n",
            "Second option    31\n",
            "First option     23\n",
            "Name: project3, dtype: int64\n"
          ],
          "name": "stdout"
        },
        {
          "output_type": "execute_result",
          "data": {
            "text/plain": [
              "<matplotlib.axes._subplots.AxesSubplot at 0x7fad0df0f4a8>"
            ]
          },
          "metadata": {
            "tags": []
          },
          "execution_count": 31
        },
        {
          "output_type": "display_data",
          "data": {
            "image/png": "[encoded data removed]",
            "text/plain": [
              "<Figure size 432x288 with 1 Axes>"
            ]
          },
          "metadata": {
            "tags": [],
            "needs_background": "light"
          }
        }
      ]
    }
  ]
}